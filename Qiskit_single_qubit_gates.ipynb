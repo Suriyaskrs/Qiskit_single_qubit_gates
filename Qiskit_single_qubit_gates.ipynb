{
  "cells": [
    {
      "cell_type": "code",
      "execution_count": 1,
      "metadata": {
        "colab": {
          "base_uri": "https://localhost:8080/"
        },
        "id": "Mx6284lurNt1",
        "outputId": "e4b25dd5-00db-47b9-97f8-9e4db55ad4e9"
      },
      "outputs": [
        {
          "output_type": "stream",
          "name": "stdout",
          "text": [
            "\u001b[2K   \u001b[90m━━━━━━━━━━━━━━━━━━━━━━━━━━━━━━━━━━━━━━━━\u001b[0m \u001b[32m8.0/8.0 MB\u001b[0m \u001b[31m59.3 MB/s\u001b[0m eta \u001b[36m0:00:00\u001b[0m\n",
            "\u001b[2K   \u001b[90m━━━━━━━━━━━━━━━━━━━━━━━━━━━━━━━━━━━━━━━━\u001b[0m \u001b[32m12.4/12.4 MB\u001b[0m \u001b[31m68.8 MB/s\u001b[0m eta \u001b[36m0:00:00\u001b[0m\n",
            "\u001b[2K   \u001b[90m━━━━━━━━━━━━━━━━━━━━━━━━━━━━━━━━━━━━━━━━\u001b[0m \u001b[32m2.2/2.2 MB\u001b[0m \u001b[31m59.8 MB/s\u001b[0m eta \u001b[36m0:00:00\u001b[0m\n",
            "\u001b[2K   \u001b[90m━━━━━━━━━━━━━━━━━━━━━━━━━━━━━━━━━━━━━━━━\u001b[0m \u001b[32m49.5/49.5 kB\u001b[0m \u001b[31m3.4 MB/s\u001b[0m eta \u001b[36m0:00:00\u001b[0m\n",
            "\u001b[?25h"
          ]
        }
      ],
      "source": [
        "!pip install qiskit qiskit-aer --upgrade --quiet"
      ]
    },
    {
      "cell_type": "markdown",
      "metadata": {
        "id": "lZg5wBiGwzRr"
      },
      "source": [
        "# Task 1: Change Gate Order (Swap X and H)"
      ]
    },
    {
      "cell_type": "code",
      "execution_count": 3,
      "metadata": {
        "colab": {
          "base_uri": "https://localhost:8080/"
        },
        "id": "VPOwLacGrCdU",
        "outputId": "a254d0c9-b8bc-46e3-f491-7945333f43de"
      },
      "outputs": [
        {
          "output_type": "stream",
          "name": "stdout",
          "text": [
            "        ┌───┐┌───┐┌───┐┌───┐┌─────────┐ ░ ┌─┐\n",
            "     q: ┤ H ├┤ X ├┤ S ├┤ T ├┤ Rz(0.5) ├─░─┤M├\n",
            "        └───┘└───┘└───┘└───┘└─────────┘ ░ └╥┘\n",
            "   c: 1/═══════════════════════════════════╬═\n",
            "                                           ║ \n",
            "meas: 1/═══════════════════════════════════╩═\n",
            "                                           0 \n",
            "Measurement Counts: {'0 0': 523, '1 0': 501}\n",
            "Explanation: Gate order matters because quantum gates generally do not commute.(i.e. 2+3 != 3+2)\n",
            "Applying H before X is not equivalent to applying X before H. Their matrix multiplication order changes the final quantum state.\n"
          ]
        }
      ],
      "source": [
        "from qiskit import QuantumCircuit, transpile\n",
        "from qiskit_aer import AerSimulator\n",
        "import math\n",
        "\n",
        "# Initialize simulator\n",
        "sim = AerSimulator()\n",
        "\n",
        "qc1 = QuantumCircuit(1, 1)\n",
        "qc1.h(0)        # H first\n",
        "qc1.x(0)        # then X\n",
        "qc1.s(0)\n",
        "qc1.t(0)\n",
        "qc1.rz(0.5, 0)\n",
        "qc1.measure_all()\n",
        "\n",
        "compiled1 = transpile(qc1, sim)\n",
        "result1 = sim.run(compiled1, shots=1024).result()\n",
        "counts1 = result1.get_counts()\n",
        "\n",
        "print(qc1.draw())\n",
        "print(\"Measurement Counts:\", counts1)\n",
        "print(\"Explanation: Gate order matters because quantum gates generally do not commute.(i.e. 2+3 != 3+2)\")\n",
        "print(\"Applying H before X is not equivalent to applying X before H. \"\n",
        "      \"Their matrix multiplication order changes the final quantum state.\")\n"
      ]
    },
    {
      "cell_type": "markdown",
      "metadata": {
        "id": "UuVqQpXlwzR2"
      },
      "source": [
        "# Task 2: Vary Rotation Angle θ = π/4, π/2, π"
      ]
    },
    {
      "cell_type": "code",
      "execution_count": 5,
      "metadata": {
        "colab": {
          "base_uri": "https://localhost:8080/"
        },
        "id": "8InV1pCfwzR5",
        "outputId": "30a4533a-565f-4f49-9ae1-dfd0b84a7110"
      },
      "outputs": [
        {
          "output_type": "stream",
          "name": "stdout",
          "text": [
            "\n",
            "Rotation Angle θ = 0.79 radians\n",
            "        ┌───┐┌───┐┌───┐┌───┐┌─────────┐ ░ ┌─┐\n",
            "     q: ┤ X ├┤ H ├┤ S ├┤ T ├┤ Rz(π/4) ├─░─┤M├\n",
            "        └───┘└───┘└───┘└───┘└─────────┘ ░ └╥┘\n",
            "   c: 1/═══════════════════════════════════╬═\n",
            "                                           ║ \n",
            "meas: 1/═══════════════════════════════════╩═\n",
            "                                           0 \n",
            "Measurement Counts: {'0 0': 527, '1 0': 497}\n",
            "\n",
            "Rotation Angle θ = 1.57 radians\n",
            "        ┌───┐┌───┐┌───┐┌───┐┌─────────┐ ░ ┌─┐\n",
            "     q: ┤ X ├┤ H ├┤ S ├┤ T ├┤ Rz(π/2) ├─░─┤M├\n",
            "        └───┘└───┘└───┘└───┘└─────────┘ ░ └╥┘\n",
            "   c: 1/═══════════════════════════════════╬═\n",
            "                                           ║ \n",
            "meas: 1/═══════════════════════════════════╩═\n",
            "                                           0 \n",
            "Measurement Counts: {'1 0': 513, '0 0': 511}\n",
            "\n",
            "Rotation Angle θ = 3.14 radians\n",
            "        ┌───┐┌───┐┌───┐┌───┐┌───────┐ ░ ┌─┐\n",
            "     q: ┤ X ├┤ H ├┤ S ├┤ T ├┤ Rz(π) ├─░─┤M├\n",
            "        └───┘└───┘└───┘└───┘└───────┘ ░ └╥┘\n",
            "   c: 1/═════════════════════════════════╬═\n",
            "                                         ║ \n",
            "meas: 1/═════════════════════════════════╩═\n",
            "                                         0 \n",
            "Measurement Counts: {'1 0': 480, '0 0': 544}\n"
          ]
        }
      ],
      "source": [
        "angles = [math.pi/4, math.pi/2, math.pi]\n",
        "for theta in angles:\n",
        "    qc2 = QuantumCircuit(1, 1)\n",
        "    qc2.x(0)\n",
        "    qc2.h(0)\n",
        "    qc2.s(0)\n",
        "    qc2.t(0)\n",
        "    qc2.rz(theta, 0)\n",
        "    qc2.measure_all()\n",
        "\n",
        "    compiled2 = transpile(qc2, sim)\n",
        "    result2 = sim.run(compiled2, shots=1024).result()\n",
        "    counts2 = result2.get_counts()\n",
        "\n",
        "    print(f\"\\nRotation Angle θ = {theta:.2f} radians\")\n",
        "    print(qc2.draw())\n",
        "    print(\"Measurement Counts:\", counts2)\n"
      ]
    },
    {
      "cell_type": "markdown",
      "metadata": {
        "id": "41GZfIwBwzR7"
      },
      "source": [
        "# Task 3:Remove the Hadamard Gate"
      ]
    },
    {
      "cell_type": "code",
      "execution_count": 6,
      "metadata": {
        "colab": {
          "base_uri": "https://localhost:8080/"
        },
        "id": "ee12zw1SwzSA",
        "outputId": "ee8c4926-afb2-45fc-c9c1-7d48fdfb6525"
      },
      "outputs": [
        {
          "output_type": "stream",
          "name": "stdout",
          "text": [
            "        ┌───┐┌───┐┌───┐┌─────────┐ ░ ┌─┐\n",
            "     q: ┤ X ├┤ S ├┤ T ├┤ Rz(0.5) ├─░─┤M├\n",
            "        └───┘└───┘└───┘└─────────┘ ░ └╥┘\n",
            "   c: 1/══════════════════════════════╬═\n",
            "                                      ║ \n",
            "meas: 1/══════════════════════════════╩═\n",
            "                                      0 \n",
            "Measurement Counts: {'1 0': 1024}\n"
          ]
        }
      ],
      "source": [
        "qc3 = QuantumCircuit(1, 1)\n",
        "qc3.x(0)\n",
        "# qc3.h(0) removed\n",
        "qc3.s(0)\n",
        "qc3.t(0)\n",
        "qc3.rz(0.5, 0)\n",
        "qc3.measure_all()\n",
        "\n",
        "compiled3 = transpile(qc3, sim)\n",
        "result3 = sim.run(compiled3, shots=1024).result()\n",
        "counts3 = result3.get_counts()\n",
        "\n",
        "print(qc3.draw())\n",
        "print(\"Measurement Counts:\", counts3)"
      ]
    },
    {
      "cell_type": "code",
      "execution_count": null,
      "metadata": {
        "id": "XXSzfpG9q7hc"
      },
      "outputs": [],
      "source": []
    }
  ],
  "metadata": {
    "colab": {
      "provenance": []
    },
    "kernelspec": {
      "display_name": "Python 3",
      "name": "python3"
    },
    "language_info": {
      "name": "python"
    }
  },
  "nbformat": 4,
  "nbformat_minor": 0
}